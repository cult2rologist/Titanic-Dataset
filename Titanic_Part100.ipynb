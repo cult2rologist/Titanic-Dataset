{
 "cells": [
  {
   "cell_type": "markdown",
   "metadata": {},
   "source": [
    "# __Titanic dataset exploratory analysis__\n",
    "\n",
    "##### With this project, I want to learn data analysis approaches using Python and special libraries such as:\n",
    "* Pandas\n",
    "* Seaborn\n",
    "* Matplotlib.pyplot\n",
    "\n",
    "\n",
    "##### There won't be any specific questions I want to ask this data before getting started. I will explore as many questions as I can during the process. Some of the research may be redundant and not practically useful for a real-case data analysis. However, primarily, this project focuses on working with data visualization tools. Throughout the process, I will enhance my ability to understand and work with data in Python.\n",
    "\n",
    "\n",
    "### Part #1: Cleansing Data"
   ]
  },
  {
   "cell_type": "markdown",
   "metadata": {},
   "source": [
    "#### __Let's start by importing libraries__"
   ]
  },
  {
   "cell_type": "code",
   "execution_count": null,
   "metadata": {},
   "outputs": [],
   "source": [
    "import pandas as pd\n",
    "import matplotlib.pyplot as plt\n",
    "import seaborn as sns"
   ]
  },
  {
   "cell_type": "markdown",
   "metadata": {},
   "source": [
    "#### __Next, we want to import our file using Pandas__\n",
    "* We'll see what we've imported using \".head()\" function"
   ]
  },
  {
   "cell_type": "code",
   "execution_count": null,
   "metadata": {},
   "outputs": [],
   "source": [
    "titanic = pd.read_csv('Titanic.csv')\n",
    "\n",
    "titanic.head(10)"
   ]
  },
  {
   "cell_type": "markdown",
   "metadata": {},
   "source": [
    "#### __Also, we want to check the types of data__\n",
    "* We've found some inconsistencies within this dataset using \".info()\" function\n",
    "* Columns 'Age', 'Cabin', 'Embarked' definitely have NA values"
   ]
  },
  {
   "cell_type": "code",
   "execution_count": null,
   "metadata": {},
   "outputs": [],
   "source": [
    "titanic.info()"
   ]
  },
  {
   "cell_type": "markdown",
   "metadata": {},
   "source": [
    "#### __We can try dropping all NA values and see what is left__\n",
    "* We see that we lost ~79.5% of the data, so we need to modify our code chunk"
   ]
  },
  {
   "cell_type": "code",
   "execution_count": null,
   "metadata": {},
   "outputs": [],
   "source": [
    "titanic.dropna().info()"
   ]
  },
  {
   "cell_type": "markdown",
   "metadata": {},
   "source": [
    "#### __This time, we will attempt to exclude NA values from the \"Age\" and the \"Embarked\" columns__\n",
    "* We see that we lost ~20% of data from all other columns except the \"Cabin\" column, where we lost only ~10% of the data"
   ]
  },
  {
   "cell_type": "code",
   "execution_count": null,
   "metadata": {},
   "outputs": [],
   "source": [
    "titanic.dropna(subset=['Age','Embarked']).info()"
   ]
  },
  {
   "cell_type": "markdown",
   "metadata": {},
   "source": [
    "#### __Let's create our first bar chart to visualize the difference between the original data and the one with dropped NA values from the \"Age\" and the \"Embarked\" columns__\n",
    "* I couldn't find the proper way to place two bar charts next to each other, so I added labels to each bar\n",
    "* Men   died ~23%    Men   Alive ~15%\n",
    "* Women died ~21%    Women Alive ~16%"
   ]
  },
  {
   "cell_type": "code",
   "execution_count": null,
   "metadata": {},
   "outputs": [],
   "source": [
    "titanic_c = titanic.dropna(subset=['Age','Embarked'])\n",
    "\n",
    "titanic.loc[:, 'Survived'] = titanic['Survived'].map({0:'No', 1:'Yes'})\n",
    "titanic_c.loc[:, 'Survived'] = titanic_c['Survived'].map({0:'No', 1:'Yes'})\n",
    "\n",
    "g1 = sns.catplot(x = 'Survived', data = titanic, kind = 'count', hue = titanic['Sex'], legend = True)\n",
    "# iterate through axes (taken from the internet)\n",
    "for ax in g1.axes.ravel():\n",
    "    \n",
    "    # add annotations (taken from the internet)\n",
    "    for c in ax.containers:\n",
    "        labels = [f'{(v.get_height()):.0f}' for v in c]\n",
    "        ax.bar_label(c, labels=labels, label_type='edge')\n",
    "    ax.margins(y=0.2)\n",
    "\n",
    "g1.fig.subplots_adjust(top=0.9)\n",
    "g1.fig.suptitle('Titanic original data')\n",
    "\n",
    "g2 = sns.catplot(x = 'Survived', data = titanic_c, kind = 'count', hue = titanic_c['Sex'])\n",
    "# iterate through axes (taken from the internet)\n",
    "for ax in g2.axes.ravel():\n",
    "    \n",
    "    # add annotations (taken from the internet)\n",
    "    for c in ax.containers:\n",
    "        labels = [f'{(v.get_height()):.0f}' for v in c]\n",
    "        ax.bar_label(c, labels=labels, label_type='edge')\n",
    "    ax.margins(y=0.2)\n",
    "\n",
    "g2.fig.subplots_adjust(top=0.9)\n",
    "g2.fig.suptitle('Titanic \"cleared\" data')\n",
    "\n",
    "plt.show()"
   ]
  }
 ],
 "metadata": {
  "kernelspec": {
   "display_name": "Python 3.11.0 64-bit",
   "language": "python",
   "name": "python3"
  },
  "language_info": {
   "codemirror_mode": {
    "name": "ipython",
    "version": 3
   },
   "file_extension": ".py",
   "mimetype": "text/x-python",
   "name": "python",
   "nbconvert_exporter": "python",
   "pygments_lexer": "ipython3",
   "version": "3.11.0"
  },
  "orig_nbformat": 4,
  "vscode": {
   "interpreter": {
    "hash": "c261aea317cc0286b3b3261fbba9abdec21eaa57589985bb7a274bf54d6cc0a7"
   }
  }
 },
 "nbformat": 4,
 "nbformat_minor": 2
}
